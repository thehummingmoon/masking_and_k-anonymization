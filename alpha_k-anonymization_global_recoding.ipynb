{
 "cells": [
  {
   "cell_type": "markdown",
   "id": "3d138f9c",
   "metadata": {},
   "source": [
    "# ALPHA ANONYMOUS K-ANONYMIZATION USING GLOBAL RECODING"
   ]
  },
  {
   "cell_type": "code",
   "execution_count": 5,
   "id": "af97dcb8",
   "metadata": {},
   "outputs": [
    {
     "name": "stdout",
     "output_type": "stream",
     "text": [
      "Collecting faker\n",
      "  Downloading Faker-18.3.2-py3-none-any.whl (1.7 MB)\n",
      "Requirement already satisfied: python-dateutil>=2.4 in c:\\users\\smile\\anaconda3\\lib\\site-packages (from faker) (2.8.2)\n",
      "Requirement already satisfied: six>=1.5 in c:\\users\\smile\\anaconda3\\lib\\site-packages (from python-dateutil>=2.4->faker) (1.16.0)\n",
      "Installing collected packages: faker\n",
      "Successfully installed faker-18.3.2\n",
      "Note: you may need to restart the kernel to use updated packages.\n"
     ]
    }
   ],
   "source": [
    "pip install faker\n"
   ]
  },
  {
   "cell_type": "code",
   "execution_count": 19,
   "id": "9e4d95b0",
   "metadata": {},
   "outputs": [
    {
     "name": "stdout",
     "output_type": "stream",
     "text": [
      "      Segment                               Country     Product   \\\n",
      "0  Government          Hong Kong0.09980499681497632   Carretera    \n",
      "1  Government            Zambia-0.03883307975695227   Carretera    \n",
      "2   Midmarket              Haiti0.06830296469582153   Carretera    \n",
      "3   Midmarket            Zambia-0.07320683199366805   Carretera    \n",
      "4   Midmarket  Papua New Guinea-0.05254390341775157   Carretera    \n",
      "\n",
      "   Discount Band   Units Sold   Manufacturing Price   Sale Price   \\\n",
      "0           None    $1,618.50                 $3.00       $20.00    \n",
      "1           None    $1,321.00                 $3.00       $20.00    \n",
      "2           None    $2,178.00                 $3.00       $15.00    \n",
      "3           None      $888.00                 $3.00       $15.00    \n",
      "4           None    $2,470.00                 $3.00       $15.00    \n",
      "\n",
      "   Gross Sales   Discounts         Sales          COGS        Profit   \\\n",
      "0   $32,370.00        $-      $32,370.00    $16,185.00    $16,185.00    \n",
      "1   $26,420.00        $-      $26,420.00    $13,210.00    $13,210.00    \n",
      "2   $32,670.00        $-      $32,670.00    $21,780.00    $10,890.00    \n",
      "3   $13,320.00        $-      $13,320.00     $8,880.00     $4,440.00    \n",
      "4   $37,050.00        $-      $37,050.00    $24,700.00    $12,350.00    \n",
      "\n",
      "       Date  Month Number  Month Name   Year  \n",
      "0  1/1/2014             1     January   2014  \n",
      "1  1/1/2014             1     January   2014  \n",
      "2  6/1/2014             6        June   2014  \n",
      "3  6/1/2014             6        June   2014  \n",
      "4  6/1/2014             6        June   2014  \n"
     ]
    }
   ],
   "source": [
    "#Here is an example code that applies global recoding and combined alpha anonymous k-anonymization to the dataset:\n",
    "\n",
    "import pandas as pd\n",
    "from faker import Faker\n",
    "fake = Faker()\n",
    "\n",
    "# Load the dataset\n",
    "df = pd.read_csv('C:\\\\Users\\\\Smile\\\\Downloads\\\\Financial Sample.csv')\n",
    "\n",
    "# Apply global recoding to replace country names with fake names\n",
    "country_map = {\n",
    "    'Canada': fake.country(),\n",
    "    'Germany': fake.country(),\n",
    "    'France': fake.country(),\n",
    "    'Mexico': fake.country()\n",
    "}\n",
    "df['Country'] = df['Country'].map(country_map)\n",
    "\n",
    "\n",
    "\n",
    "\n",
    "# Apply combined alpha anonymous k-anonymization\n",
    "k = 2\n",
    "epsilon = 0.1\n",
    "for i in range(len(df)):\n",
    "    # Add noise to country names\n",
    "    country = df.at[i, 'Country']\n",
    "    noise = fake.random.uniform(-epsilon, epsilon)\n",
    "    country = str(country) + str(noise)\n",
    "    df.at[i, 'Country'] = country\n",
    "\n",
    "    # Check if the row is k-anonymous\n",
    "    group = df.groupby('Segment').get_group(df.at[i, 'Segment'])\n",
    "    if len(group) < k:\n",
    "        # If the row is not k-anonymous, replace country with a fake country\n",
    "        df.at[i, 'Country'] = fake.country()\n",
    "\n",
    "# Save the anonymized dataset\n",
    "df.to_csv('C:\\\\Users\\\\Smile\\\\Downloads\\\\anonymized_data.csv', index=False)\n",
    "\n",
    "\n",
    "print(df.head());"
   ]
  },
  {
   "cell_type": "code",
   "execution_count": null,
   "id": "f4de26a6",
   "metadata": {},
   "outputs": [],
   "source": []
  },
  {
   "cell_type": "code",
   "execution_count": null,
   "id": "59bb6a56",
   "metadata": {},
   "outputs": [],
   "source": []
  }
 ],
 "metadata": {
  "kernelspec": {
   "display_name": "Python 3 (ipykernel)",
   "language": "python",
   "name": "python3"
  },
  "language_info": {
   "codemirror_mode": {
    "name": "ipython",
    "version": 3
   },
   "file_extension": ".py",
   "mimetype": "text/x-python",
   "name": "python",
   "nbconvert_exporter": "python",
   "pygments_lexer": "ipython3",
   "version": "3.9.7"
  }
 },
 "nbformat": 4,
 "nbformat_minor": 5
}

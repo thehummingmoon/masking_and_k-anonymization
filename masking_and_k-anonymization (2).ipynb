{
 "cells": [
  {
   "cell_type": "code",
   "execution_count": 5,
   "id": "8ff8751c",
   "metadata": {},
   "outputs": [
    {
     "name": "stdout",
     "output_type": "stream",
     "text": [
      "      Segment  Country     Product   Discount Band   Units Sold   \\\n",
      "0  Government   Canada   Carretera            None     1,618.50    \n",
      "1  Government  Germany   Carretera            None        1,321    \n",
      "2   Midmarket   France   Carretera            None        2,178    \n",
      "3   Midmarket  Germany   Carretera            None          888    \n",
      "4   Midmarket   Mexico   Carretera            None        2,470    \n",
      "\n",
      "    Manufacturing Price    Sale Price   Gross Sales   Discounts     Sales   \\\n",
      "0                      3            20       32,370         -      32,370    \n",
      "1                      3            20       26,420         -      26,420    \n",
      "2                      3            15       32,670         -      32,670    \n",
      "3                      3            15       13,320         -      13,320    \n",
      "4                      3            15       37,050         -      37,050    \n",
      "\n",
      "      COGS    Profit       Date  Month Number  Month Name   Year  \n",
      "0   16,185    16,185   1/1/2014             1     January   2014  \n",
      "1   13,210    13,210   1/1/2014             1     January   2014  \n",
      "2   21,780    10,890   6/1/2014             6        June   2014  \n",
      "3    8,880     4,440   6/1/2014             6        June   2014  \n",
      "4   24,700    12,350   6/1/2014             6        June   2014  \n"
     ]
    }
   ],
   "source": [
    "import pandas as pd\n",
    "\n",
    "df = pd.read_csv('C:\\\\Users\\\\Smile\\\\Downloads\\\\Financial Sample.csv');\n",
    "print(df.head())"
   ]
  },
  {
   "cell_type": "code",
   "execution_count": 13,
   "id": "d01b4a8d",
   "metadata": {},
   "outputs": [
    {
     "name": "stdout",
     "output_type": "stream",
     "text": [
      "Country entropy: 2.321928094887362\n",
      "Month Number entropy: 3.3841837197791884\n"
     ]
    }
   ],
   "source": [
    "import pandas as pd\n",
    "import math\n",
    "\n",
    "# Load the finance dataset into a pandas DataFrame\n",
    "df = pd.read_csv('C:\\\\Users\\\\Smile\\\\Downloads\\\\Financial Sample.csv')\n",
    "\n",
    "# Group the data by each quasi-identifier attribute and calculate the entropy\n",
    "qi_entropy = {}\n",
    "for col in ['Country', 'Month Number']:\n",
    "    counts = df.groupby(col).size()\n",
    "    probs = counts / len(df)\n",
    "    qi_entropy[col] = -sum(p * math.log(p, 2) for p in probs)\n",
    "\n",
    "# Print the entropy for each quasi-identifier attribute\n",
    "for col, ent in qi_entropy.items():\n",
    "    print(col, 'entropy:', ent)\n"
   ]
  },
  {
   "cell_type": "markdown",
   "id": "c7619fe6",
   "metadata": {},
   "source": [
    "# ANONYMIZED DATASET"
   ]
  },
  {
   "cell_type": "code",
   "execution_count": 18,
   "id": "d97b099a",
   "metadata": {},
   "outputs": [
    {
     "name": "stdout",
     "output_type": "stream",
     "text": [
      "      Segment  Country     Product   Discount Band   Units Sold   \\\n",
      "0  Government   Canada   Carretera            None     1,618.50    \n",
      "1  Government  Germany   Carretera            None        1,321    \n",
      "2   Midmarket   France   Carretera            None        2,178    \n",
      "3   Midmarket  Germany   Carretera            None          888    \n",
      "4   Midmarket   Mexico   Carretera            None        2,470    \n",
      "\n",
      "    Manufacturing Price    Sale Price   Gross Sales   Discounts     Sales   \\\n",
      "0                      3            20       32,370         -      32,370    \n",
      "1                      3            20       26,420         -      26,420    \n",
      "2                      3            15       32,670         -      32,670    \n",
      "3                      3            15       13,320         -      13,320    \n",
      "4                      3            15       37,050         -      37,050    \n",
      "\n",
      "      COGS    Profit       Date  Month Number  Month Name   Year  \\\n",
      "0   16,185    16,185   1/1/2014             1     January   2014   \n",
      "1   13,210    13,210   1/1/2014             1     January   2014   \n",
      "2   21,780    10,890   6/1/2014             6        June   2014   \n",
      "3    8,880     4,440   6/1/2014             6        June   2014   \n",
      "4   24,700    12,350   6/1/2014             6        June   2014   \n",
      "\n",
      "   New Month Number  New Year  \n",
      "0                 1         1  \n",
      "1                 1         1  \n",
      "2                 7         7  \n",
      "3                 7         7  \n",
      "4                 7         7  \n"
     ]
    }
   ],
   "source": [
    "import pandas as pd\n",
    "import numpy as np\n",
    "\n",
    "# Load the dataset into a pandas dataframe\n",
    "df = pd.read_csv('C:\\\\Users\\\\Smile\\\\Downloads\\\\Financial Sample.csv')\n",
    "\n",
    "# Define the columns to use for k-anonymization\n",
    "columns_to_anonymize = ['Year', 'Month Number']\n",
    "\n",
    "# Define the value of k\n",
    "k = 1\n",
    "# Define a function to anonymize the values in a column\n",
    "def anonymize_column(values):\n",
    "    unique_values, value_counts = np.unique(values, return_counts=True)\n",
    "    sorted_indices = np.argsort(value_counts)\n",
    "    group_sizes = np.zeros_like(value_counts)\n",
    "    group_id = np.zeros_like(values)\n",
    "    for i, value_index in enumerate(sorted_indices):\n",
    "        group_id[values == unique_values[value_index]] = i\n",
    "        group_sizes[i] = value_counts[value_index]\n",
    "    group_id[group_sizes[group_id] < k] = len(sorted_indices)\n",
    "    return group_id\n",
    "\n",
    "# Anonymize the columns in the dataframe\n",
    "group_ids = []\n",
    "for column in columns_to_anonymize:\n",
    "    group_id = anonymize_column(df[column].values)\n",
    "    group_ids.append(group_id)\n",
    "df['New Month Number'] = np.max(group_ids, axis=0)\n",
    "df['New Year'] = np.max(group_ids, axis=0)\n",
    "\n",
    "# Save the anonymized dataframe to a new csv file\n",
    "df.to_csv('C:\\\\Users\\\\Smile\\\\Downloads\\\\anonymized_dataset.csv', index=False)\n",
    "\n",
    "print(df.head());"
   ]
  },
  {
   "cell_type": "markdown",
   "id": "b7ee0838",
   "metadata": {},
   "source": [
    "# MASKED DATASET AND ANONYMIZED DATASET"
   ]
  },
  {
   "cell_type": "code",
   "execution_count": 19,
   "id": "dd1fa38c",
   "metadata": {},
   "outputs": [
    {
     "name": "stdout",
     "output_type": "stream",
     "text": [
      "      Segment  Country     Product   Discount Band   Units Sold   \\\n",
      "0  Government   ******   Carretera            None     1,618.50    \n",
      "1  Government  *******   Carretera            None        1,321    \n",
      "2   Midmarket   ******   Carretera            None        2,178    \n",
      "3   Midmarket  *******   Carretera            None          888    \n",
      "4   Midmarket   ******   Carretera            None        2,470    \n",
      "\n",
      "    Manufacturing Price    Sale Price   Gross Sales   Discounts     Sales   \\\n",
      "0                      3            20       32,370         -      32,370    \n",
      "1                      3            20       26,420         -      26,420    \n",
      "2                      3            15       32,670         -      32,670    \n",
      "3                      3            15       13,320         -      13,320    \n",
      "4                      3            15       37,050         -      37,050    \n",
      "\n",
      "      COGS    Profit       Date  Month Number  Month Name   Year  \\\n",
      "0   16,185    16,185   1/1/2014             1     January   2014   \n",
      "1   13,210    13,210   1/1/2014             1     January   2014   \n",
      "2   21,780    10,890   6/1/2014             6        June   2014   \n",
      "3    8,880     4,440   6/1/2014             6        June   2014   \n",
      "4   24,700    12,350   6/1/2014             6        June   2014   \n",
      "\n",
      "   New Month Number  New Year  \n",
      "0                 1         1  \n",
      "1                 1         1  \n",
      "2                 7         7  \n",
      "3                 7         7  \n",
      "4                 7         7  \n"
     ]
    }
   ],
   "source": [
    "import pandas as pd\n",
    "import numpy as np\n",
    "\n",
    "# Load the dataset into a pandas dataframe\n",
    "df = pd.read_csv('C:\\\\Users\\\\Smile\\\\Downloads\\\\anonymized_dataset.csv')\n",
    "\n",
    "# Define the column to mask\n",
    "column_to_mask = 'Country'\n",
    "\n",
    "# Define the masking character or string\n",
    "masking_char = '*'\n",
    "\n",
    "# Mask the column by replacing the original values with asterisks\n",
    "df[column_to_mask] = df[column_to_mask].apply(lambda x: masking_char * len(str(x)))\n",
    "\n",
    "# Save the masked dataframe to a new csv file\n",
    "df.to_csv('C:\\\\Users\\\\Smile\\\\Downloads\\\\masked_dataset.csv', index=False)\n",
    "\n",
    "print(df.head())"
   ]
  },
  {
   "cell_type": "markdown",
   "id": "ea6fd3f9",
   "metadata": {},
   "source": [
    "# TIME EFFICIENCY OF K-ANONYMIZATION"
   ]
  },
  {
   "cell_type": "code",
   "execution_count": 6,
   "id": "57319960",
   "metadata": {},
   "outputs": [
    {
     "name": "stdout",
     "output_type": "stream",
     "text": [
      "k=2: time=0.010561943054199219\n",
      "k=5: time=0.0011260509490966797\n",
      "k=10: time=0.013653993606567383\n",
      "k=20: time=0.006986856460571289\n"
     ]
    },
    {
     "name": "stderr",
     "output_type": "stream",
     "text": [
      "C:\\Users\\Smile\\AppData\\Local\\Temp/ipykernel_27532/3806932696.py:19: SettingWithCopyWarning: \n",
      "A value is trying to be set on a copy of a slice from a DataFrame.\n",
      "Try using .loc[row_indexer,col_indexer] = value instead\n",
      "\n",
      "See the caveats in the documentation: https://pandas.pydata.org/pandas-docs/stable/user_guide/indexing.html#returning-a-view-versus-a-copy\n",
      "  group_cols['group_id'] = pd.factorize(group_cols.apply(tuple, axis=1), sort=True)[0] % k\n"
     ]
    }
   ],
   "source": [
    "import pandas as pd\n",
    "import time\n",
    "\n",
    "# Load the dataset into a pandas dataframe\n",
    "df = pd.read_csv('C:\\\\Users\\\\Smile\\\\Downloads\\\\masked_dataset.csv')\n",
    "\n",
    "# Define the columns to use for k-anonymization\n",
    "qi_cols = ['Segment', 'Month Number', 'Year']\n",
    "\n",
    "# Define a list of k values to try\n",
    "k_values = [2, 5, 10, 20]\n",
    "\n",
    "# Measure the time taken to perform k-anonymization for each k value\n",
    "for k in k_values:\n",
    "    start_time = time.time()\n",
    "    \n",
    "    # Group the dataset based on the QI attributes and assign a group ID to each group\n",
    "    group_cols = df[qi_cols]\n",
    "    group_cols['group_id'] = pd.factorize(group_cols.apply(tuple, axis=1), sort=True)[0] % k\n",
    "    df['group_id'] = group_cols['group_id']\n",
    "    \n",
    "    end_time = time.time()\n",
    "    print(f\"k={k}: time={end_time-start_time}\")\n"
   ]
  },
  {
   "cell_type": "code",
   "execution_count": 12,
   "id": "98ebc367",
   "metadata": {},
   "outputs": [
    {
     "name": "stdout",
     "output_type": "stream",
     "text": [
      "Country entropy: 1.3709505944546687\n",
      "Month Number entropy: 3.3841837197791884\n"
     ]
    }
   ],
   "source": [
    "import pandas as pd\n",
    "import math\n",
    "\n",
    "# Load the finance dataset into a pandas DataFrame\n",
    "df = pd.read_csv('C:\\\\Users\\\\Smile\\\\Downloads\\\\masked_dataset.csv')\n",
    "\n",
    "# Group the data by each quasi-identifier attribute and calculate the entropy\n",
    "qi_entropy = {}\n",
    "for col in ['Country', 'Month Number']:\n",
    "    counts = df.groupby(col).size()\n",
    "    probs = counts / len(df)\n",
    "    qi_entropy[col] = -sum(p * math.log(p, 2) for p in probs)\n",
    "\n",
    "# Print the entropy for each quasi-identifier attribute\n",
    "for col, ent in qi_entropy.items():\n",
    "    print(col, 'entropy:', ent)\n"
   ]
  },
  {
   "cell_type": "code",
   "execution_count": null,
   "id": "93f3b066",
   "metadata": {},
   "outputs": [],
   "source": []
  },
  {
   "cell_type": "code",
   "execution_count": null,
   "id": "3d08e9dd",
   "metadata": {},
   "outputs": [],
   "source": []
  }
 ],
 "metadata": {
  "kernelspec": {
   "display_name": "Python 3 (ipykernel)",
   "language": "python",
   "name": "python3"
  },
  "language_info": {
   "codemirror_mode": {
    "name": "ipython",
    "version": 3
   },
   "file_extension": ".py",
   "mimetype": "text/x-python",
   "name": "python",
   "nbconvert_exporter": "python",
   "pygments_lexer": "ipython3",
   "version": "3.9.7"
  }
 },
 "nbformat": 4,
 "nbformat_minor": 5
}

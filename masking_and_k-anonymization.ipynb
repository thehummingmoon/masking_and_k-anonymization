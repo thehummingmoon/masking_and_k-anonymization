{
 "cells": [
  {
   "cell_type": "code",
   "execution_count": 49,
   "id": "250ebad3",
   "metadata": {},
   "outputs": [
    {
     "name": "stdout",
     "output_type": "stream",
     "text": [
      "      Segment  Country     Product   Discount Band   Units Sold   \\\n",
      "0  Government   Canada   Carretera            None     1,618.50    \n",
      "1  Government  Germany   Carretera            None        1,321    \n",
      "2   Midmarket   France   Carretera            None        2,178    \n",
      "3   Midmarket  Germany   Carretera            None          888    \n",
      "4   Midmarket   Mexico   Carretera            None        2,470    \n",
      "\n",
      "    Manufacturing Price    Sale Price   Gross Sales   Discounts     Sales   \\\n",
      "0                      3            20       32,370         -      32,370    \n",
      "1                      3            20       26,420         -      26,420    \n",
      "2                      3            15       32,670         -      32,670    \n",
      "3                      3            15       13,320         -      13,320    \n",
      "4                      3            15       37,050         -      37,050    \n",
      "\n",
      "      COGS    Profit       Date  Month Number  Month Name   Year  \n",
      "0   16,185    16,185   1/1/2014             1     January   2014  \n",
      "1   13,210    13,210   1/1/2014             1     January   2014  \n",
      "2   21,780    10,890   6/1/2014             6        June   2014  \n",
      "3    8,880     4,440   6/1/2014             6        June   2014  \n",
      "4   24,700    12,350   6/1/2014             6        June   2014  \n"
     ]
    }
   ],
   "source": [
    "import pandas as pd\n",
    "\n",
    "df = pd.read_csv('C:\\\\Users\\\\Smile\\\\Downloads\\\\Financial Sample.csv');\n",
    "print(df.head())"
   ]
  },
  {
   "cell_type": "markdown",
   "id": "8bf98eee",
   "metadata": {},
   "source": [
    "# ANONYMIZED DATASET"
   ]
  },
  {
   "cell_type": "code",
   "execution_count": 53,
   "id": "5b94cf77",
   "metadata": {},
   "outputs": [
    {
     "name": "stdout",
     "output_type": "stream",
     "text": [
      "      Segment  Country     Product   Discount Band   Units Sold   \\\n",
      "0  Government   Canada   Carretera            None     1,618.50    \n",
      "1  Government  Germany   Carretera            None        1,321    \n",
      "2   Midmarket   France   Carretera            None        2,178    \n",
      "3   Midmarket  Germany   Carretera            None          888    \n",
      "4   Midmarket   Mexico   Carretera            None        2,470    \n",
      "\n",
      "    Manufacturing Price    Sale Price   Gross Sales   Discounts     Sales   \\\n",
      "0                      3            20       32,370         -      32,370    \n",
      "1                      3            20       26,420         -      26,420    \n",
      "2                      3            15       32,670         -      32,670    \n",
      "3                      3            15       13,320         -      13,320    \n",
      "4                      3            15       37,050         -      37,050    \n",
      "\n",
      "      COGS    Profit       Date  Month Number  Month Name   Year  \\\n",
      "0   16,185    16,185   1/1/2014             1     January   2014   \n",
      "1   13,210    13,210   1/1/2014             1     January   2014   \n",
      "2   21,780    10,890   6/1/2014             6        June   2014   \n",
      "3    8,880     4,440   6/1/2014             6        June   2014   \n",
      "4   24,700    12,350   6/1/2014             6        June   2014   \n",
      "\n",
      "   New Month Number  \n",
      "0                 0  \n",
      "1                 0  \n",
      "2                 7  \n",
      "3                 7  \n",
      "4                 7  \n"
     ]
    }
   ],
   "source": [
    "import pandas as pd\n",
    "import numpy as np\n",
    "\n",
    "# Load the dataset into a pandas dataframe\n",
    "df = pd.read_csv('C:\\\\Users\\\\Smile\\\\Downloads\\\\Financial Sample.csv')\n",
    "\n",
    "# Define the columns to use for k-anonymization\n",
    "columns_to_anonymize = ['Month Number']\n",
    "\n",
    "# Define the value of k\n",
    "k = 1\n",
    "# Define a function to anonymize the values in a column\n",
    "def anonymize_column(values):\n",
    "    unique_values, value_counts = np.unique(values, return_counts=True)\n",
    "    sorted_indices = np.argsort(value_counts)\n",
    "    group_sizes = np.zeros_like(value_counts)\n",
    "    group_id = np.zeros_like(values)\n",
    "    for i, value_index in enumerate(sorted_indices):\n",
    "        group_id[values == unique_values[value_index]] = i\n",
    "        group_sizes[i] = value_counts[value_index]\n",
    "    group_id[group_sizes[group_id] < k] = len(sorted_indices)\n",
    "    return group_id\n",
    "\n",
    "# Anonymize the columns in the dataframe\n",
    "group_ids = []\n",
    "for column in columns_to_anonymize:\n",
    "    group_id = anonymize_column(df[column].values)\n",
    "    group_ids.append(group_id)\n",
    "df['New Month Number'] = np.max(group_ids, axis=0)\n",
    "\n",
    "# Save the anonymized dataframe to a new csv file\n",
    "df.to_csv('C:\\\\Users\\\\Smile\\\\Downloads\\\\anonymized_dataset.csv', index=False)\n",
    "\n",
    "print(df.head());"
   ]
  },
  {
   "cell_type": "raw",
   "id": "a574de80",
   "metadata": {},
   "source": [
    "MASKED DATASET AND ANONYMIZED DATASET"
   ]
  },
  {
   "cell_type": "code",
   "execution_count": 54,
   "id": "eb9afac6",
   "metadata": {},
   "outputs": [
    {
     "name": "stdout",
     "output_type": "stream",
     "text": [
      "      Segment  Country     Product   Discount Band   Units Sold   \\\n",
      "0  **********   Canada   Carretera            None     1,618.50    \n",
      "1  **********  Germany   Carretera            None        1,321    \n",
      "2   *********   France   Carretera            None        2,178    \n",
      "3   *********  Germany   Carretera            None          888    \n",
      "4   *********   Mexico   Carretera            None        2,470    \n",
      "\n",
      "    Manufacturing Price    Sale Price   Gross Sales   Discounts     Sales   \\\n",
      "0                      3            20       32,370         -      32,370    \n",
      "1                      3            20       26,420         -      26,420    \n",
      "2                      3            15       32,670         -      32,670    \n",
      "3                      3            15       13,320         -      13,320    \n",
      "4                      3            15       37,050         -      37,050    \n",
      "\n",
      "      COGS    Profit       Date  Month Number  Month Name   Year  \\\n",
      "0   16,185    16,185   1/1/2014             1     January   2014   \n",
      "1   13,210    13,210   1/1/2014             1     January   2014   \n",
      "2   21,780    10,890   6/1/2014             6        June   2014   \n",
      "3    8,880     4,440   6/1/2014             6        June   2014   \n",
      "4   24,700    12,350   6/1/2014             6        June   2014   \n",
      "\n",
      "   New Month Number  \n",
      "0                 0  \n",
      "1                 0  \n",
      "2                 7  \n",
      "3                 7  \n",
      "4                 7  \n"
     ]
    }
   ],
   "source": [
    "import pandas as pd\n",
    "import numpy as np\n",
    "\n",
    "# Load the dataset into a pandas dataframe\n",
    "df = pd.read_csv('C:\\\\Users\\\\Smile\\\\Downloads\\\\anonymized_dataset.csv')\n",
    "\n",
    "# Define the column to mask\n",
    "column_to_mask = 'Segment'\n",
    "\n",
    "# Define the masking character or string\n",
    "masking_char = '*'\n",
    "\n",
    "# Mask the column by replacing the original values with asterisks\n",
    "df[column_to_mask] = df[column_to_mask].apply(lambda x: masking_char * len(str(x)))\n",
    "\n",
    "# Save the masked dataframe to a new csv file\n",
    "df.to_csv('C:\\\\Users\\\\Smile\\\\Downloads\\\\masked_dataset.csv', index=False)\n",
    "\n",
    "print(df.head())"
   ]
  },
  {
   "cell_type": "code",
   "execution_count": null,
   "id": "0761b37d",
   "metadata": {},
   "outputs": [],
   "source": []
  }
 ],
 "metadata": {
  "kernelspec": {
   "display_name": "Python 3 (ipykernel)",
   "language": "python",
   "name": "python3"
  },
  "language_info": {
   "codemirror_mode": {
    "name": "ipython",
    "version": 3
   },
   "file_extension": ".py",
   "mimetype": "text/x-python",
   "name": "python",
   "nbconvert_exporter": "python",
   "pygments_lexer": "ipython3",
   "version": "3.9.7"
  }
 },
 "nbformat": 4,
 "nbformat_minor": 5
}
